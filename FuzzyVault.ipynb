{
  "nbformat": 4,
  "nbformat_minor": 0,
  "metadata": {
    "colab": {
      "name": "FuzzyVault.ipynb",
      "provenance": [],
      "collapsed_sections": []
    },
    "kernelspec": {
      "name": "python3",
      "display_name": "Python 3"
    }
  },
  "cells": [
    {
      "cell_type": "code",
      "metadata": {
        "id": "-BVtdei5sLek",
        "colab": {
          "base_uri": "https://localhost:8080/",
          "height": 35
        },
        "outputId": "a9f28a43-479f-497e-ecf1-c86a91d09d4f"
      },
      "source": [
        "key = b'abcdef'\n",
        "key[0]\n",
        "print(len(key))\n",
        "key = b'abcdef'\n",
        "from random import uniform, shuffle\n",
        "import numpy\n",
        "from numpy import polyfit\n",
        "template1 = {\n",
        "        \"Jayme Woogerd\": [0.22, 1.23, 2.342, 0.33, 1.27, 0.34, 2.32, 3.98, 1.254, 0.03],\n",
        "        \"Ming Chow\":     [0.32, 1.32, 2.452, 0.49, 1.43, 0.34, 2.52, 3.55, 1.233, 0.001],\n",
        "        \"Norman Ramsey\": [0.45, 1.11, 2.321, 0.12, 1.11, 0.22, 2.91, 3.554, 1.33, 0.01]\n",
        "}\n",
        "template2 = {\n",
        "        \"Jayme Woogerd\": [0.23, 1.13, 2.322, 3.98, 0.333, 1.269, 0.34, 2.32, 1.254, 0.03],\n",
        "        \"Ming Chow\":     [0.31, 1.32, 2.442, 0.493, 1.43, 0.35, 2.52, 3.559, 1.233, 0.001],\n",
        "        \"Norman Ramsey\": [0.45, 1.10, 2.311, 0.12, 1.11, 0.32, 2.91, 3.564, 1.33, 0.03]\n",
        "}\n"
      ],
      "execution_count": null,
      "outputs": [
        {
          "output_type": "stream",
          "text": [
            "6\n"
          ],
          "name": "stdout"
        }
      ]
    },
    {
      "cell_type": "markdown",
      "metadata": {
        "id": "tw6kRnLwsk2R"
      },
      "source": [
        "필요한 라이브러리 블러오기 한 것\n",
        "template2는 디코딩 부분에서 사용한다."
      ]
    },
    {
      "cell_type": "code",
      "metadata": {
        "id": "okaNVU4fsei0"
      },
      "source": [
        "def p_x(x, coeffs):\n",
        "    # returns p(x) at the given x, where p(x) is a polynomial function defined \n",
        "    # by its coefficients.\n",
        "    y = 0\n",
        "    #degree = len(coeffs) - 1\n",
        "    degree = 4\n",
        "    for coeff in coeffs:        \n",
        "        y += x**degree * coeff\n",
        "        degree -= 1\n",
        "        if degree<0:\n",
        "            return y\n",
        "    return y"
      ],
      "execution_count": null,
      "outputs": []
    },
    {
      "cell_type": "markdown",
      "metadata": {
        "id": "zMgLbaHhtcKl"
      },
      "source": [
        "x는 템플릿의 특징값 현재 degree는 4차"
      ]
    },
    {
      "cell_type": "code",
      "metadata": {
        "id": "o7ybjk_Gtg2Q"
      },
      "source": [
        "degree = 4 # degree 4 polynomial\n",
        "t = 10     # number of features in each template\n",
        "r = 40     # number of chaff points"
      ],
      "execution_count": null,
      "outputs": []
    },
    {
      "cell_type": "code",
      "metadata": {
        "id": "HM6TfR37tmRI",
        "colab": {
          "base_uri": "https://localhost:8080/",
          "height": 109
        },
        "outputId": "216f0ac4-9308-487e-fa3e-221f16f1eb44"
      },
      "source": [
        "template = template1['Jayme Woogerd']\n",
        "print(template)\n",
        "y = 0\n",
        "#degree = len(key) - 1\n",
        "#print(degree)\n",
        "\n",
        "# a fuzzy vault in which this data is encrypted\n",
        "vault = []\n",
        "coeffs = key\n",
        "\n",
        "# calculate genuine points\n",
        "for point in template: #템플릿 수만큼 반복\n",
        "    vault.append([point, p_x(point, coeffs)])\n",
        "\n",
        "#add chaff points\n",
        "max_x = max(template)\n",
        "max_y = max([y for [x, y] in vault])\n",
        "\n",
        "for i in range(t, r):\n",
        "    x_i = uniform(0, max_x * 1.1)\n",
        "    #y_i = uniform(0, p_x(max_x, coeffs) * 1.1) #값이 겹치지 않기 위해 거치는 과정 아래와 값이 같으면 추가하지 않아야 한다.\n",
        "    y_i = uniform(0, max_y * 1.1)\n",
        "    vault.append([x_i, y_i])\n",
        "shuffle(vault)\n",
        "\n",
        "print(vault)    \n",
        "print(len(vault))\n",
        "print(coeffs)"
      ],
      "execution_count": null,
      "outputs": [
        {
          "output_type": "stream",
          "text": [
            "[0.22, 1.23, 2.342, 0.33, 1.27, 0.34, 2.32, 3.98, 1.254, 0.03]\n",
            "[[1.23, 778.1621077699999], [1.6409704268630059, 29836.792796875892], [0.8723243350841539, 24608.523460456276], [2.544068237344152, 4072.048903869313], [0.22783415391901385, 1032.8743380926428], [0.03, 104.09182457], [2.4138990203437083, 1423.8580130041607], [2.448692826505861, 21401.10289818269], [3.640888191837915, 60.07232767595401], [1.8059102020358573, 30682.284700661927], [1.5723864030077368, 19833.611386810655], [0.5966830699760095, 243.40573299592938], [2.1793454670944254, 928.4600505450579], [3.159812481934931, 83.55591877191493], [0.7671846368443467, 12179.65737398193], [2.1954941577174685, 35024.14399154252], [1.720971336707305, 5090.902628917001], [0.22, 129.06233232], [0.4784032127629495, 8001.506207853259], [2.7180673224944596, 20814.1928154779], [1.27, 840.7589357700001], [2.342, 5055.326951309712], [1.254, 815.190957586832], [3.98, 32584.66161552], [0.9198713498143783, 30464.786162913195], [3.598467239814494, 16151.706838890714], [2.32, 4899.712350719999], [0.22576497062321205, 17287.19864460232], [2.7580899850375844, 24263.86866851685], [0.34, 151.59243792], [2.924329537316909, 28980.11990279843], [3.720363355129754, 23312.626211864557], [3.470039015134672, 6913.064254675946], [4.284399633202831, 6945.595651518121], [0.33, 149.45326937], [3.8944444859371545, 22189.1173501394], [4.069103121659016, 5722.214933129097], [4.138410637796524, 32064.567780560817], [1.7742674142871826, 11436.923582061405], [4.32760791613643, 18062.82646061776]]\n",
            "40\n",
            "b'abcdef'\n"
          ],
          "name": "stdout"
        }
      ]
    },
    {
      "cell_type": "code",
      "metadata": {
        "id": "c10rhgvNtqka"
      },
      "source": [
        "def approx_equal(a, b, epsilon):\n",
        "    #print(a)\n",
        "    #print(b)\n",
        "    return abs(a - b) < epsilon"
      ],
      "execution_count": null,
      "outputs": []
    },
    {
      "cell_type": "code",
      "metadata": {
        "id": "AcDaTBELtrsD"
      },
      "source": [
        "def project(x):\n",
        "    for point in vault:\n",
        "        if (approx_equal(x, point[0], 0.001)): #적정 차이값은 0.001 0.001이내의 값은 후보 point이다.\n",
        "        #if (approx_equal(x, point[0], 0.01)):\n",
        "            return [x, point[1]]\n",
        "    return None"
      ],
      "execution_count": null,
      "outputs": []
    },
    {
      "cell_type": "code",
      "metadata": {
        "id": "uRypNnJBtt6Z",
        "colab": {
          "base_uri": "https://localhost:8080/",
          "height": 89
        },
        "outputId": "5a07f707-71ab-44a0-d2bc-7b99b00f111c"
      },
      "source": [
        "degree = 4 # degree 4 polynomial\n",
        "\n",
        "template = template2['Jayme Woogerd']\n",
        "#template = template2['Ming Chow']\n",
        "#template = template2['Norman Ramsey']\n",
        "Q_x = [] \n",
        "Q_y = []\n",
        "\n",
        "#Q = zip(*[ != None])\n",
        "for point in template:\n",
        "    cand = project(point)\n",
        "    if (cand != None):\n",
        "        Q_x.append(cand[0])\n",
        "        Q_y.append(cand[1])\n",
        "\n",
        "print(len(Q_x))\n",
        "print(Q_x)\n",
        "print(len(Q_y))\n",
        "print(Q_y)\n",
        "\n",
        "coeffs_cand = 0\n",
        "coeffs_cand = polyfit(Q_x, Q_y, deg=degree) #후보 x,y쌍으로 polynomial을 만든다."
      ],
      "execution_count": null,
      "outputs": [
        {
          "output_type": "stream",
          "text": [
            "5\n",
            "[3.98, 0.34, 2.32, 1.254, 0.03]\n",
            "5\n",
            "[32584.66161552, 151.59243792, 4899.712350719999, 815.190957586832, 104.09182457]\n"
          ],
          "name": "stdout"
        }
      ]
    },
    {
      "cell_type": "code",
      "metadata": {
        "id": "7deypzd5tz5f",
        "colab": {
          "base_uri": "https://localhost:8080/",
          "height": 35
        },
        "outputId": "77009786-8189-4a2d-8070-9b21e422bec3"
      },
      "source": [
        "coeffs_cand #후보다항식 -> 후보다항식 중에서도 잘 맞는 다항식을 찾아야함"
      ],
      "execution_count": null,
      "outputs": [
        {
          "output_type": "execute_result",
          "data": {
            "text/plain": [
              "array([ 97.,  98.,  99., 100., 101.])"
            ]
          },
          "metadata": {
            "tags": []
          },
          "execution_count": 16
        }
      ]
    },
    {
      "cell_type": "markdown",
      "metadata": {
        "id": "5wJF0uq9tgqj"
      },
      "source": [
        ""
      ]
    }
  ]
}