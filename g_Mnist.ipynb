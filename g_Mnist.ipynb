{
  "nbformat": 4,
  "nbformat_minor": 0,
  "metadata": {
    "colab": {
      "name": "g_Mnist.ipynb",
      "provenance": [],
      "collapsed_sections": []
    },
    "kernelspec": {
      "name": "python3",
      "display_name": "Python 3"
    }
  },
  "cells": [
    {
      "cell_type": "code",
      "metadata": {
        "id": "j__k2dVFV2xN",
        "colab": {
          "base_uri": "https://localhost:8080/",
          "height": 34
        },
        "outputId": "3c0cf78c-d9a7-4f12-b6db-034e3f77d54c"
      },
      "source": [
        "#ANN\n",
        "\n",
        "#[1] 패키지를 불러오기\n",
        "\n",
        "from keras import layers   #각 계층을 만드는 모듈\n",
        "from keras import models   #각 계층을 연결하여 신경망 모델을 만든 후, 컴파일하고 학습시키는 모듈\n",
        "                           #compile(), fit(), predict(), evaluate() 등 딥러닝 처리 함수 대부분을 제공함\n",
        "                           \n",
        "#[2] 필요한 파라미터 설정\n",
        "#후반의 main()에서 설정\n",
        "#Nin 입력계층 노드 수, Nh 은닉계층 수, number_of_class 출력값이 가질 클래스 수, Nout 출력 노드 수"
      ],
      "execution_count": null,
      "outputs": [
        {
          "output_type": "stream",
          "text": [
            "Using TensorFlow backend.\n"
          ],
          "name": "stderr"
        }
      ]
    },
    {
      "cell_type": "code",
      "metadata": {
        "id": "gaEyCZVVWsAH"
      },
      "source": [
        "#[3] 모델 구현\n",
        "#신경망을 연쇄 방식 모델링을 포함하는 함수형 구현\n",
        "\n",
        "def ANN_seq_func(Nin, Nh, Nout): \n",
        "  model = models.Sequential()\n",
        "  model.add(layers.Dense(Nh, activation='relu', input_shape=(Nin,)))\n",
        "  model.add(layers.Dense(Nout, activation='softmax'))\n",
        "  model.compile(loss='categorical_crossentropy',\n",
        "                optimizer='adam',\n",
        "                metrics=['accuracy'])\n",
        "  return model\n"
      ],
      "execution_count": null,
      "outputs": []
    },
    {
      "cell_type": "code",
      "metadata": {
        "id": "OChq0aCHW1oT"
      },
      "source": [
        "#[4] 데이터 불러오기\n",
        "#Mnist 필기 숫자 데이터셋 \n",
        "\n",
        "import numpy as np\n",
        "from keras import datasets #mnist\n",
        "from keras.utils import np_utils #to_categorical\n",
        "\n",
        "def Data_func():\n",
        "  (X_train, y_train), (X_test, y_test) = datasets.mnist.load_data()\n",
        "\n",
        "  #0~9의 숫자로 된 출력값을 이진수(0/1)로 표현되는 벡터로 바꿈 (더 효율적)\n",
        "  Y_train = np_utils.to_categorical(y_train) \n",
        "  Y_test = np_utils.to_categorical(y_test)\n",
        "  \n",
        "  L, W, H = X_train.shape\n",
        "  X_train = X_train.reshape(-1,W*H) #-1 행렬의 행을 자동으로 설정, 열수가 W*H로 지정\n",
        "  X_test = X_test.reshape(-1, W*H)\n",
        "\n",
        "  X_train = X_train/255.0   #정규화: 0~255로 되어있는 입력값을 0~1로 바꿔줌 (성능 최적화를 위함)\n",
        "  X_test = X_test/255.0\n",
        "\n",
        "  return (X_train, Y_train), (X_test, Y_test)"
      ],
      "execution_count": null,
      "outputs": []
    },
    {
      "cell_type": "code",
      "metadata": {
        "id": "OA_J47FMW32c"
      },
      "source": [
        "#[5] 학습 결과 분석을 위한 그래프 구현\n",
        "import matplotlib.pyplot as plt\n",
        "\n",
        "def plot_acc(history, title=None):\n",
        "    # summarize history for accuracy\n",
        "    if not isinstance(history, dict):\n",
        "        history = history.history\n",
        "    plt.plot(history['accuracy'])\n",
        "    plt.plot(history['val_accuracy'])\n",
        "    if title is not None:\n",
        "        plt.title(title)\n",
        "    plt.ylabel('Accuracy')\n",
        "    plt.xlabel('Epoch')\n",
        "    plt.legend(['Training', 'Verification'], loc=0)  #두 선의 이름(Train, Test) 표시    \n",
        "\n",
        "def plot_loss(history, title=None):\n",
        "    # summarize history for loss\n",
        "    if not isinstance(history, dict):\n",
        "        history = history.history    \n",
        "    plt.plot(history['loss'])          #학습 데이터로 구한 손실값\n",
        "    plt.plot(history['val_loss'])      #검증 데이터로 구한 손실값\n",
        "    if title is not None:\n",
        "        plt.title(title)\n",
        "    plt.ylabel('Loss')\n",
        "    plt.xlabel('Epoch')\n",
        "    plt.legend(['Training', 'Verification'], loc=0)"
      ],
      "execution_count": null,
      "outputs": []
    },
    {
      "cell_type": "code",
      "metadata": {
        "id": "RdwXEckAXA0U",
        "colab": {
          "base_uri": "https://localhost:8080/",
          "height": 1000
        },
        "outputId": "3c986ea6-6c17-4a28-978e-8f7b2607e528"
      },
      "source": [
        "#[6] 학습 및 성능 분석\n",
        "def main():\n",
        "  #파라미터 설정\n",
        "  #Nin 입력계층 노드 수, Nh 은닉계층 수, number_of_class 출력값이 가질 클래스 수, Nout 출력 노드 수\n",
        "  Nin = 784\n",
        "  Nh = 100\n",
        "  number_of_class = 10\n",
        "  Nout = number_of_class\n",
        "\n",
        "  #모델 설정\n",
        "  model = ANN_seq_func(Nin, Nh, Nout)\n",
        "  (X_train, Y_train), (X_test, Y_test) = Data_func()\n",
        "\n",
        "  #학습하기\n",
        "  history = model.fit(X_train,Y_train, epochs=15, batch_size=100, validation_split=0.2)\n",
        "  performance_test = model.evaluate(X_test, Y_test, batch_size=100)\n",
        "  print('Test Loss and Accuracy -->', performance_test)\n",
        "\n",
        "  plot_loss(history)\n",
        "  plt.show()\n",
        "  plot_acc(history)\n",
        "  plt.show()\n",
        "\n",
        "#main() 코드 실행하기\n",
        "if __name__ == '__main__':\n",
        "  main()"
      ],
      "execution_count": null,
      "outputs": [
        {
          "output_type": "stream",
          "text": [
            "Downloading data from https://s3.amazonaws.com/img-datasets/mnist.npz\n",
            "11493376/11490434 [==============================] - 1s 0us/step\n",
            "Train on 48000 samples, validate on 12000 samples\n",
            "Epoch 1/15\n",
            "48000/48000 [==============================] - 2s 45us/step - loss: 0.3926 - accuracy: 0.8919 - val_loss: 0.2129 - val_accuracy: 0.9413\n",
            "Epoch 2/15\n",
            "48000/48000 [==============================] - 2s 40us/step - loss: 0.1862 - accuracy: 0.9466 - val_loss: 0.1551 - val_accuracy: 0.9574\n",
            "Epoch 3/15\n",
            "48000/48000 [==============================] - 2s 39us/step - loss: 0.1363 - accuracy: 0.9611 - val_loss: 0.1317 - val_accuracy: 0.9632\n",
            "Epoch 4/15\n",
            "48000/48000 [==============================] - 2s 38us/step - loss: 0.1085 - accuracy: 0.9689 - val_loss: 0.1187 - val_accuracy: 0.9662\n",
            "Epoch 5/15\n",
            "48000/48000 [==============================] - 2s 40us/step - loss: 0.0882 - accuracy: 0.9740 - val_loss: 0.1110 - val_accuracy: 0.9667\n",
            "Epoch 6/15\n",
            "48000/48000 [==============================] - 2s 40us/step - loss: 0.0728 - accuracy: 0.9794 - val_loss: 0.0967 - val_accuracy: 0.9716\n",
            "Epoch 7/15\n",
            "48000/48000 [==============================] - 2s 39us/step - loss: 0.0616 - accuracy: 0.9828 - val_loss: 0.0937 - val_accuracy: 0.9714\n",
            "Epoch 8/15\n",
            "48000/48000 [==============================] - 2s 39us/step - loss: 0.0528 - accuracy: 0.9843 - val_loss: 0.0932 - val_accuracy: 0.9728\n",
            "Epoch 9/15\n",
            "48000/48000 [==============================] - 2s 38us/step - loss: 0.0461 - accuracy: 0.9872 - val_loss: 0.0904 - val_accuracy: 0.9741\n",
            "Epoch 10/15\n",
            "48000/48000 [==============================] - 2s 39us/step - loss: 0.0391 - accuracy: 0.9895 - val_loss: 0.0881 - val_accuracy: 0.9732\n",
            "Epoch 11/15\n",
            "48000/48000 [==============================] - 2s 40us/step - loss: 0.0339 - accuracy: 0.9909 - val_loss: 0.0932 - val_accuracy: 0.9726\n",
            "Epoch 12/15\n",
            "48000/48000 [==============================] - 2s 40us/step - loss: 0.0292 - accuracy: 0.9926 - val_loss: 0.0873 - val_accuracy: 0.9759\n",
            "Epoch 13/15\n",
            "48000/48000 [==============================] - 2s 40us/step - loss: 0.0255 - accuracy: 0.9936 - val_loss: 0.0856 - val_accuracy: 0.9746\n",
            "Epoch 14/15\n",
            "48000/48000 [==============================] - 2s 40us/step - loss: 0.0229 - accuracy: 0.9942 - val_loss: 0.0873 - val_accuracy: 0.9746\n",
            "Epoch 15/15\n",
            "48000/48000 [==============================] - 2s 39us/step - loss: 0.0194 - accuracy: 0.9952 - val_loss: 0.0898 - val_accuracy: 0.9746\n",
            "10000/10000 [==============================] - 0s 14us/step\n",
            "Test Loss and Accuracy --> [0.08082906149531482, 0.9764000177383423]\n"
          ],
          "name": "stdout"
        },
        {
          "output_type": "display_data",
          "data": {
            "image/png": "[encoded data removed]",
            "text/plain": [
              "<Figure size 432x288 with 1 Axes>"
            ]
          },
          "metadata": {
            "tags": [],
            "needs_background": "light"
          }
        },
        {
          "output_type": "display_data",
          "data": {
            "image/png": "[encoded data removed]",
            "text/plain": [
              "<Figure size 432x288 with 1 Axes>"
            ]
          },
          "metadata": {
            "tags": [],
            "needs_background": "light"
          }
        }
      ]
    },
    {
      "cell_type": "code",
      "metadata": {
        "id": "bXwcaaMUXDjD"
      },
      "source": [
        ""
      ],
      "execution_count": null,
      "outputs": []
    },
    {
      "cell_type": "code",
      "metadata": {
        "id": "_D99knJgXOSr"
      },
      "source": [
        "#DNN\n",
        "\n",
        "#[1] 패키지를 불러오기\n",
        "from keras import layers   #각 계층을 만드는 모듈\n",
        "from keras import models   #각 계층을 연결하여 신경망 모델을 만든 후, 컴파일하고 학습시키는 모듈\n",
        "                           #compile(), fit(), predict(), evaluate() 등 딥러닝 처리 함수 대부분을 제공함\n",
        " #[2] 필요한 파라미터 설정\n",
        "Nin = 784\n",
        "Nh_l = [100, 50]\n",
        "number_of_class = 10\n",
        "Nout = number_of_class\n",
        "#[3] 모델 구현\n",
        "class DNN(models.Sequential):\n",
        "    def __init__(self, Nin, Nh_l, Nout):\n",
        "        super().__init__()\n",
        "        self.add(layers.Dense(Nh_l[0], activation='relu', input_shape=(Nin,), name='Hidden-1'))\n",
        "        self.add(layers.Dense(Nh_l[1], activation='relu', name='Hidden-2'))       \n",
        "        self.add(layers.Dense(Nout, activation='softmax'))\n",
        "        self.compile(loss='categorical_crossentropy', \n",
        "                         optimizer='adam', \n",
        "                         metrics=['accuracy'])\n"
      ],
      "execution_count": null,
      "outputs": []
    },
    {
      "cell_type": "code",
      "metadata": {
        "id": "5NGCpftZXjQW"
      },
      "source": [
        "#[4] 데이터 불러오기\n",
        "import numpy as np \n",
        "from keras import datasets              \n",
        "from keras.utils import np_utils \n",
        " \n",
        "(X_train, y_train), (X_test, y_test) = datasets.mnist.load_data()\n",
        " \n",
        "y_train = np_utils.to_categorical(y_train)\n",
        "y_test = np_utils.to_categorical(y_test)\n",
        " \n",
        "L, W, H = X_train.shape\n",
        "X_train = X_train.reshape(-1, W * H)\n",
        "X_test = X_test.reshape(-1, W * H)\n",
        " \n",
        "X_train = X_train / 255.0\n",
        "X_test = X_test / 255.0 "
      ],
      "execution_count": null,
      "outputs": []
    },
    {
      "cell_type": "code",
      "metadata": {
        "id": "jQ8xHIYxXlUt"
      },
      "source": [
        "#[5] 학습 결과 분석을 위한 그래프 구현\n",
        "\n",
        "import matplotlib.pyplot as plt\n",
        "\n",
        "def plot_acc(history, title=None):\n",
        "    # summarize history for accuracy\n",
        "    if not isinstance(history, dict):\n",
        "        history = history.history\n",
        "    plt.plot(history['accuracy'])\n",
        "    plt.plot(history['val_accuracy'])\n",
        "    if title is not None:\n",
        "        plt.title(title)\n",
        "    plt.ylabel('Accuracy')\n",
        "    plt.xlabel('Epoch')\n",
        "    plt.legend(['Training', 'Verification'], loc=0)  #두 선의 이름(Train, Test) 표시    \n",
        "\n",
        "def plot_loss(history, title=None):\n",
        "    # summarize history for loss\n",
        "    if not isinstance(history, dict):\n",
        "        history = history.history    \n",
        "    plt.plot(history['loss'])          #학습 데이터로 구한 손실값\n",
        "    plt.plot(history['val_loss'])      #검증 데이터로 구한 손실값\n",
        "    if title is not None:\n",
        "        plt.title(title)\n",
        "    plt.ylabel('Loss')\n",
        "    plt.xlabel('Epoch')\n",
        "    plt.legend(['Training', 'Verification'], loc=0)"
      ],
      "execution_count": null,
      "outputs": []
    },
    {
      "cell_type": "code",
      "metadata": {
        "id": "9SvZcC_sXp4t",
        "colab": {
          "base_uri": "https://localhost:8080/",
          "height": 1000
        },
        "outputId": "1f43fde6-5177-42f7-e0e3-920d17ed4465"
      },
      "source": [
        "#[6] 학습 및 테스트(성능 분석)\n",
        "model = DNN(Nin, Nh_l, Nout)\n",
        "history = model.fit(X_train, y_train, epochs=15, batch_size=100, validation_split=0.2)\n",
        "performace_test = model.evaluate(X_test, y_test, batch_size=100)\n",
        "print('Test Loss and Accuracy ->', performace_test)\n",
        "\n",
        "plot_loss(history)\n",
        "plt.show()\n",
        "plot_acc(history)\n",
        "plt.show()"
      ],
      "execution_count": null,
      "outputs": [
        {
          "output_type": "stream",
          "text": [
            "Train on 48000 samples, validate on 12000 samples\n",
            "Epoch 1/15\n",
            "48000/48000 [==============================] - 2s 38us/step - loss: 0.3745 - accuracy: 0.8908 - val_loss: 0.1813 - val_accuracy: 0.9482\n",
            "Epoch 2/15\n",
            "48000/48000 [==============================] - 2s 36us/step - loss: 0.1545 - accuracy: 0.9548 - val_loss: 0.1338 - val_accuracy: 0.9629\n",
            "Epoch 3/15\n",
            "48000/48000 [==============================] - 2s 37us/step - loss: 0.1089 - accuracy: 0.9683 - val_loss: 0.1253 - val_accuracy: 0.9630\n",
            "Epoch 4/15\n",
            "48000/48000 [==============================] - 2s 36us/step - loss: 0.0827 - accuracy: 0.9747 - val_loss: 0.1081 - val_accuracy: 0.9693\n",
            "Epoch 5/15\n",
            "48000/48000 [==============================] - 2s 36us/step - loss: 0.0671 - accuracy: 0.9804 - val_loss: 0.1058 - val_accuracy: 0.9693\n",
            "Epoch 6/15\n",
            "48000/48000 [==============================] - 2s 37us/step - loss: 0.0539 - accuracy: 0.9839 - val_loss: 0.1111 - val_accuracy: 0.9694\n",
            "Epoch 7/15\n",
            "48000/48000 [==============================] - 2s 37us/step - loss: 0.0438 - accuracy: 0.9875 - val_loss: 0.1155 - val_accuracy: 0.9679\n",
            "Epoch 8/15\n",
            "48000/48000 [==============================] - 2s 36us/step - loss: 0.0366 - accuracy: 0.9892 - val_loss: 0.1027 - val_accuracy: 0.9730\n",
            "Epoch 9/15\n",
            "48000/48000 [==============================] - 2s 37us/step - loss: 0.0327 - accuracy: 0.9897 - val_loss: 0.1104 - val_accuracy: 0.9716\n",
            "Epoch 10/15\n",
            "48000/48000 [==============================] - 2s 36us/step - loss: 0.0262 - accuracy: 0.9919 - val_loss: 0.1094 - val_accuracy: 0.9728\n",
            "Epoch 11/15\n",
            "48000/48000 [==============================] - 2s 36us/step - loss: 0.0209 - accuracy: 0.9937 - val_loss: 0.1065 - val_accuracy: 0.9737\n",
            "Epoch 12/15\n",
            "48000/48000 [==============================] - 2s 36us/step - loss: 0.0208 - accuracy: 0.9936 - val_loss: 0.1175 - val_accuracy: 0.9737\n",
            "Epoch 13/15\n",
            "48000/48000 [==============================] - 2s 37us/step - loss: 0.0163 - accuracy: 0.9952 - val_loss: 0.1166 - val_accuracy: 0.9722\n",
            "Epoch 14/15\n",
            "48000/48000 [==============================] - 2s 36us/step - loss: 0.0132 - accuracy: 0.9960 - val_loss: 0.1200 - val_accuracy: 0.9722\n",
            "Epoch 15/15\n",
            "48000/48000 [==============================] - 2s 35us/step - loss: 0.0118 - accuracy: 0.9966 - val_loss: 0.1260 - val_accuracy: 0.9726\n",
            "10000/10000 [==============================] - 0s 14us/step\n",
            "Test Loss and Accuracy -> [0.10036856129027001, 0.9743000268936157]\n"
          ],
          "name": "stdout"
        },
        {
          "output_type": "display_data",
          "data": {
            "image/png": "[encoded data removed]",
            "text/plain": [
              "<Figure size 432x288 with 1 Axes>"
            ]
          },
          "metadata": {
            "tags": [],
            "needs_background": "light"
          }
        },
        {
          "output_type": "display_data",
          "data": {
            "image/png": "[encoded data removed]",
            "text/plain": [
              "<Figure size 432x288 with 1 Axes>"
            ]
          },
          "metadata": {
            "tags": [],
            "needs_background": "light"
          }
        }
      ]
    },
    {
      "cell_type": "code",
      "metadata": {
        "id": "Y7IPanDnXrhc"
      },
      "source": [
        ""
      ],
      "execution_count": null,
      "outputs": []
    },
    {
      "cell_type": "code",
      "metadata": {
        "id": "nc4LwKfVXrtr"
      },
      "source": [
        "#CNN\n",
        "\n",
        "#[1] 패키지를 불러오기\n",
        "import keras\n",
        "from keras import layers   #각 계층을 만드는 모듈\n",
        "from keras import models   #각 계층을 연결하여 신경망 모델을 만든 후, 컴파일하고 학습시키는 모듈\n",
        "                           #compile(), fit(), predict(), evaluate() 등 딥러닝 처리 함수 대부분을 제공함\n",
        "from keras import backend  #딥러닝 엔진을 직접 제어할 수 있는 모듈 제공 \n",
        "                           #(많은 기능을 제공하는 케라스 이용시 그리 많이 사용되지는 않음\n",
        "\n",
        "\n",
        "#[2] 필요한 파라미터 설정\n",
        "#후반의 main()에서 설정\n",
        "#Nin 입력계층 노드 수, Nh 은닉계층 수, number_of_class 출력값이 가질 클래스 수, Nout 출력 노드 수"
      ],
      "execution_count": null,
      "outputs": []
    },
    {
      "cell_type": "code",
      "metadata": {
        "id": "OtA9iRZcX4dy"
      },
      "source": [
        "#[3] 모델 구현\n",
        "#models.Sequential로 상속하여 연쇄 방식으로 모델을 구현 가능함 \n",
        "#C의 재귀함수처럼 자기자신 모델을 연쇄적으로 사용\n",
        "class CNN(models.Sequential):\n",
        "    def __init__(self, input_shape, num_classes):\n",
        "        #super()는 기본 특성을 상속한 부모 함수임, 이 부모 객체의 초기화 함수를 먼저 부름\n",
        "        super().__init__()  \n",
        "\n",
        "        self.add(layers.Conv2D(32, kernel_size=(3, 3),\n",
        "                 activation='relu',\n",
        "                 input_shape=input_shape))\n",
        "        self.add(layers.Conv2D(64, (3, 3), activation='relu'))\n",
        "        self.add(layers.MaxPooling2D(pool_size=(2, 2)))\n",
        "        self.add(layers.Dropout(0.25))\n",
        "        self.add(layers.Flatten())\n",
        "        self.add(layers.Dense(128, activation='relu'))\n",
        "        self.add(layers.Dropout(0.5))\n",
        "        self.add(layers.Dense(num_classes, activation='softmax'))\n",
        "\n",
        "        self.compile(loss=keras.losses.categorical_crossentropy,\n",
        "                      optimizer='rmsprop',\n",
        "                      metrics=['accuracy'])"
      ],
      "execution_count": null,
      "outputs": []
    },
    {
      "cell_type": "code",
      "metadata": {
        "id": "LVtJ-PhfX8X0"
      },
      "source": [
        "#[4] 데이터 불러오기\n",
        "#Mnist 필기 숫자 데이터셋 \n",
        "from keras import datasets \n",
        "\n",
        "class DATA():\n",
        "    def __init__(self):\n",
        "        num_classes = 10\n",
        "\n",
        "        (x_train, y_train), (x_test, y_test) = datasets.mnist.load_data()\n",
        "        img_rows, img_cols = x_train.shape[1:]\n",
        "\n",
        "        if backend.image_data_format() == 'channels_first':\n",
        "            x_train = x_train.reshape(x_train.shape[0], 1, img_rows, img_cols)\n",
        "            x_test = x_test.reshape(x_test.shape[0], 1, img_rows, img_cols)\n",
        "            input_shape = (1, img_rows, img_cols)\n",
        "        else:\n",
        "            x_train = x_train.reshape(x_train.shape[0], img_rows, img_cols, 1)\n",
        "            x_test = x_test.reshape(x_test.shape[0], img_rows, img_cols, 1)\n",
        "            input_shape = (img_rows, img_cols, 1)\n",
        "\n",
        "        x_train = x_train.astype('float32')\n",
        "        x_test = x_test.astype('float32')\n",
        "        x_train /= 255\n",
        "        x_test /= 255\n",
        "\n",
        "        y_train = keras.utils.to_categorical(y_train, num_classes)\n",
        "        y_test = keras.utils.to_categorical(y_test, num_classes)\n",
        "        \n",
        "        self.input_shape = input_shape\n",
        "        self.num_classes = num_classes\n",
        "        self.x_train, self.y_train = x_train, y_train\n",
        "        self.x_test, self.y_test = x_test, y_test"
      ],
      "execution_count": null,
      "outputs": []
    },
    {
      "cell_type": "code",
      "metadata": {
        "id": "GvDj8G2zX_II"
      },
      "source": [
        "#[5] 학습 결과 분석을 위한 그래프 구현\n",
        "\n",
        "import matplotlib.pyplot as plt\n",
        "\n",
        "def plot_acc(history, title=None):\n",
        "    # summarize history for accuracy\n",
        "    if not isinstance(history, dict):\n",
        "        history = history.history\n",
        "    plt.plot(history['accuracy'])\n",
        "    plt.plot(history['val_accuracy'])\n",
        "    if title is not None:\n",
        "        plt.title(title)\n",
        "    plt.ylabel('Accuracy')\n",
        "    plt.xlabel('Epoch')\n",
        "    plt.legend(['Training', 'Verification'], loc=0)  #두 선의 이름(Train, Test) 표시    \n",
        "\n",
        "def plot_loss(history, title=None):\n",
        "    # summarize history for loss\n",
        "    if not isinstance(history, dict):\n",
        "        history = history.history    \n",
        "    plt.plot(history['loss'])          #학습 데이터로 구한 손실값\n",
        "    plt.plot(history['val_loss'])      #검증 데이터로 구한 손실값\n",
        "    if title is not None:\n",
        "        plt.title(title)\n",
        "    plt.ylabel('Loss')\n",
        "    plt.xlabel('Epoch')\n",
        "    plt.legend(['Training', 'Verification'], loc=0)"
      ],
      "execution_count": null,
      "outputs": []
    },
    {
      "cell_type": "code",
      "metadata": {
        "id": "gW3DMvSBYBqu",
        "colab": {
          "base_uri": "https://localhost:8080/",
          "height": 981
        },
        "outputId": "ece936ad-19d6-4d4a-d0b0-5d4e34192958"
      },
      "source": [
        "#[6] 학습 및 성능 분석\n",
        "def main():\n",
        "    batch_size = 128\n",
        "    epochs = 10\n",
        "\n",
        "    data = DATA()\n",
        "    model = CNN(data.input_shape, data.num_classes)\n",
        "\n",
        "    history = model.fit(data.x_train, data.y_train,\n",
        "              batch_size=batch_size,\n",
        "              epochs=epochs,\n",
        "              validation_split=0.2)\n",
        "\n",
        "    score = model.evaluate(data.x_test, data.y_test)\n",
        "    print()\n",
        "    print('Test loss:', score[0])\n",
        "    print('Test accuracy:', score[1])\n",
        "\n",
        "    plot_loss(history)\n",
        "    plt.show()\n",
        "    plot_acc(history)\n",
        "    plt.show()\n",
        "\n",
        "if __name__ == '__main__':\n",
        "    main()"
      ],
      "execution_count": null,
      "outputs": [
        {
          "output_type": "stream",
          "text": [
            "Train on 48000 samples, validate on 12000 samples\n",
            "Epoch 1/10\n",
            "48000/48000 [==============================] - 112s 2ms/step - loss: 0.2472 - accuracy: 0.9261 - val_loss: 0.0649 - val_accuracy: 0.9805\n",
            "Epoch 2/10\n",
            "48000/48000 [==============================] - 112s 2ms/step - loss: 0.0885 - accuracy: 0.9739 - val_loss: 0.0530 - val_accuracy: 0.9843\n",
            "Epoch 3/10\n",
            "48000/48000 [==============================] - 113s 2ms/step - loss: 0.0675 - accuracy: 0.9802 - val_loss: 0.0495 - val_accuracy: 0.9868\n",
            "Epoch 4/10\n",
            "48000/48000 [==============================] - 113s 2ms/step - loss: 0.0556 - accuracy: 0.9841 - val_loss: 0.0395 - val_accuracy: 0.9887\n",
            "Epoch 5/10\n",
            "48000/48000 [==============================] - 117s 2ms/step - loss: 0.0478 - accuracy: 0.9858 - val_loss: 0.0447 - val_accuracy: 0.9872\n",
            "Epoch 6/10\n",
            "48000/48000 [==============================] - 113s 2ms/step - loss: 0.0448 - accuracy: 0.9868 - val_loss: 0.0396 - val_accuracy: 0.9889\n",
            "Epoch 7/10\n",
            "48000/48000 [==============================] - 113s 2ms/step - loss: 0.0411 - accuracy: 0.9878 - val_loss: 0.0378 - val_accuracy: 0.9887\n",
            "Epoch 8/10\n",
            "48000/48000 [==============================] - 113s 2ms/step - loss: 0.0410 - accuracy: 0.9880 - val_loss: 0.0377 - val_accuracy: 0.9896\n",
            "Epoch 9/10\n",
            "48000/48000 [==============================] - 112s 2ms/step - loss: 0.0393 - accuracy: 0.9887 - val_loss: 0.0412 - val_accuracy: 0.9898\n",
            "Epoch 10/10\n",
            "48000/48000 [==============================] - 115s 2ms/step - loss: 0.0434 - accuracy: 0.9874 - val_loss: 0.0402 - val_accuracy: 0.9895\n",
            "10000/10000 [==============================] - 8s 831us/step\n",
            "\n",
            "Test loss: 0.03534201346927871\n",
            "Test accuracy: 0.9905999898910522\n"
          ],
          "name": "stdout"
        },
        {
          "output_type": "display_data",
          "data": {
            "image/png": "[encoded data removed]",
            "text/plain": [
              "<Figure size 432x288 with 1 Axes>"
            ]
          },
          "metadata": {
            "tags": [],
            "needs_background": "light"
          }
        },
        {
          "output_type": "display_data",
          "data": {
            "image/png": "[encoded data removed]",
            "text/plain": [
              "<Figure size 432x288 with 1 Axes>"
            ]
          },
          "metadata": {
            "tags": [],
            "needs_background": "light"
          }
        }
      ]
    },
    {
      "cell_type": "code",
      "metadata": {
        "id": "ToAexqUpYHQw"
      },
      "source": [
        ""
      ],
      "execution_count": null,
      "outputs": []
    }
  ]
}